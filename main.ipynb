{
 "cells": [
  {
   "cell_type": "code",
   "execution_count": 2,
   "metadata": {},
   "outputs": [],
   "source": [
    "import pandas as pd\n",
    "import matplotlib.pyplot as plot\n",
    "import numpy as np\n",
    "import glob"
   ]
  },
  {
   "cell_type": "code",
   "execution_count": 32,
   "metadata": {},
   "outputs": [],
   "source": [
    "data = pd.read_csv('C:\\\\Users\\\\janik\\\\Wolke\\\\OneDrive\\\\Documents\\\\Projekte\\\\waschmaschine\\\\all.csv', delimiter= ';', decimal= '.')\n",
    "# 26.06.2021  08:56:00\n",
    "data['time'] = pd.to_datetime(data['time'], format='%d.%m.%Y %H:%M')\n",
    "#data['power'] = data['current']*230\n",
    "#data['energy'] = (data['power']/1000) * 2/(60*60) # kW * h \n",
    "#data = data.sort_values(by=['time'], ascending=True)"
   ]
  },
  {
   "cell_type": "code",
   "execution_count": 3,
   "metadata": {},
   "outputs": [
    {
     "data": {
      "text/plain": [
       "current           float64\n",
       "time       datetime64[ns]\n",
       "power             float64\n",
       "energy            float64\n",
       "dtype: object"
      ]
     },
     "execution_count": 3,
     "metadata": {},
     "output_type": "execute_result"
    }
   ],
   "source": [
    "data.dtypes"
   ]
  },
  {
   "cell_type": "code",
   "execution_count": 16,
   "metadata": {},
   "outputs": [
    {
     "data": {
      "text/html": [
       "<div>\n",
       "<style scoped>\n",
       "    .dataframe tbody tr th:only-of-type {\n",
       "        vertical-align: middle;\n",
       "    }\n",
       "\n",
       "    .dataframe tbody tr th {\n",
       "        vertical-align: top;\n",
       "    }\n",
       "\n",
       "    .dataframe thead th {\n",
       "        text-align: right;\n",
       "    }\n",
       "</style>\n",
       "<table border=\"1\" class=\"dataframe\">\n",
       "  <thead>\n",
       "    <tr style=\"text-align: right;\">\n",
       "      <th></th>\n",
       "      <th>current</th>\n",
       "      <th>time</th>\n",
       "      <th>power</th>\n",
       "      <th>energy</th>\n",
       "    </tr>\n",
       "  </thead>\n",
       "  <tbody>\n",
       "    <tr>\n",
       "      <th>0</th>\n",
       "      <td>2.822</td>\n",
       "      <td>2021-06-26 08:56:00</td>\n",
       "      <td>649.06</td>\n",
       "      <td>0.000361</td>\n",
       "    </tr>\n",
       "    <tr>\n",
       "      <th>1</th>\n",
       "      <td>2.830</td>\n",
       "      <td>2021-06-26 08:56:00</td>\n",
       "      <td>650.90</td>\n",
       "      <td>0.000362</td>\n",
       "    </tr>\n",
       "    <tr>\n",
       "      <th>2</th>\n",
       "      <td>2.820</td>\n",
       "      <td>2021-06-26 08:56:00</td>\n",
       "      <td>648.60</td>\n",
       "      <td>0.000360</td>\n",
       "    </tr>\n",
       "    <tr>\n",
       "      <th>3</th>\n",
       "      <td>2.826</td>\n",
       "      <td>2021-06-26 08:56:00</td>\n",
       "      <td>649.98</td>\n",
       "      <td>0.000361</td>\n",
       "    </tr>\n",
       "    <tr>\n",
       "      <th>4</th>\n",
       "      <td>2.820</td>\n",
       "      <td>2021-06-26 08:56:00</td>\n",
       "      <td>648.60</td>\n",
       "      <td>0.000360</td>\n",
       "    </tr>\n",
       "    <tr>\n",
       "      <th>...</th>\n",
       "      <td>...</td>\n",
       "      <td>...</td>\n",
       "      <td>...</td>\n",
       "      <td>...</td>\n",
       "    </tr>\n",
       "    <tr>\n",
       "      <th>71020</th>\n",
       "      <td>0.045</td>\n",
       "      <td>2021-10-31 09:03:00</td>\n",
       "      <td>10.35</td>\n",
       "      <td>0.000006</td>\n",
       "    </tr>\n",
       "    <tr>\n",
       "      <th>71021</th>\n",
       "      <td>0.045</td>\n",
       "      <td>2021-10-31 09:03:00</td>\n",
       "      <td>10.35</td>\n",
       "      <td>0.000006</td>\n",
       "    </tr>\n",
       "    <tr>\n",
       "      <th>71022</th>\n",
       "      <td>0.045</td>\n",
       "      <td>2021-10-31 09:03:00</td>\n",
       "      <td>10.35</td>\n",
       "      <td>0.000006</td>\n",
       "    </tr>\n",
       "    <tr>\n",
       "      <th>71023</th>\n",
       "      <td>0.045</td>\n",
       "      <td>2021-10-31 09:03:00</td>\n",
       "      <td>10.35</td>\n",
       "      <td>0.000006</td>\n",
       "    </tr>\n",
       "    <tr>\n",
       "      <th>71024</th>\n",
       "      <td>0.045</td>\n",
       "      <td>2021-10-31 09:03:00</td>\n",
       "      <td>10.35</td>\n",
       "      <td>0.000006</td>\n",
       "    </tr>\n",
       "  </tbody>\n",
       "</table>\n",
       "<p>71025 rows × 4 columns</p>\n",
       "</div>"
      ],
      "text/plain": [
       "       current                time   power    energy\n",
       "0        2.822 2021-06-26 08:56:00  649.06  0.000361\n",
       "1        2.830 2021-06-26 08:56:00  650.90  0.000362\n",
       "2        2.820 2021-06-26 08:56:00  648.60  0.000360\n",
       "3        2.826 2021-06-26 08:56:00  649.98  0.000361\n",
       "4        2.820 2021-06-26 08:56:00  648.60  0.000360\n",
       "...        ...                 ...     ...       ...\n",
       "71020    0.045 2021-10-31 09:03:00   10.35  0.000006\n",
       "71021    0.045 2021-10-31 09:03:00   10.35  0.000006\n",
       "71022    0.045 2021-10-31 09:03:00   10.35  0.000006\n",
       "71023    0.045 2021-10-31 09:03:00   10.35  0.000006\n",
       "71024    0.045 2021-10-31 09:03:00   10.35  0.000006\n",
       "\n",
       "[71025 rows x 4 columns]"
      ]
     },
     "execution_count": 16,
     "metadata": {},
     "output_type": "execute_result"
    }
   ],
   "source": [
    "data"
   ]
  },
  {
   "cell_type": "code",
   "execution_count": 33,
   "metadata": {},
   "outputs": [],
   "source": [
    "# add day for groupby\n",
    "data['day'] = data['time'].dt.strftime('%d%m%Y')"
   ]
  },
  {
   "cell_type": "code",
   "execution_count": 39,
   "metadata": {},
   "outputs": [],
   "source": [
    "test = data[data['day'] == '26062021']"
   ]
  },
  {
   "cell_type": "code",
   "execution_count": 40,
   "metadata": {},
   "outputs": [
    {
     "name": "stderr",
     "output_type": "stream",
     "text": [
      "C:\\Users\\janik\\AppData\\Local\\Temp/ipykernel_2892/2984306100.py:1: SettingWithCopyWarning: \n",
      "A value is trying to be set on a copy of a slice from a DataFrame.\n",
      "Try using .loc[row_indexer,col_indexer] = value instead\n",
      "\n",
      "See the caveats in the documentation: https://pandas.pydata.org/pandas-docs/stable/user_guide/indexing.html#returning-a-view-versus-a-copy\n",
      "  test['delta'] = np.arange(0, 2*len(data[data['day'] == '26062021']), 2)\n"
     ]
    }
   ],
   "source": [
    "test['delta'] = np.arange(0, 2*len(data[data['day'] == '26062021']), 2)"
   ]
  },
  {
   "cell_type": "code",
   "execution_count": 50,
   "metadata": {},
   "outputs": [],
   "source": [
    "data['status'] = 0"
   ]
  },
  {
   "cell_type": "code",
   "execution_count": 44,
   "metadata": {},
   "outputs": [
    {
     "data": {
      "text/html": [
       "<div>\n",
       "<style scoped>\n",
       "    .dataframe tbody tr th:only-of-type {\n",
       "        vertical-align: middle;\n",
       "    }\n",
       "\n",
       "    .dataframe tbody tr th {\n",
       "        vertical-align: top;\n",
       "    }\n",
       "\n",
       "    .dataframe thead th {\n",
       "        text-align: right;\n",
       "    }\n",
       "</style>\n",
       "<table border=\"1\" class=\"dataframe\">\n",
       "  <thead>\n",
       "    <tr style=\"text-align: right;\">\n",
       "      <th></th>\n",
       "      <th>current</th>\n",
       "      <th>delta</th>\n",
       "      <th>status</th>\n",
       "    </tr>\n",
       "  </thead>\n",
       "  <tbody>\n",
       "    <tr>\n",
       "      <th>0</th>\n",
       "      <td>2.822</td>\n",
       "      <td>0</td>\n",
       "      <td>0</td>\n",
       "    </tr>\n",
       "    <tr>\n",
       "      <th>1</th>\n",
       "      <td>2.830</td>\n",
       "      <td>2</td>\n",
       "      <td>0</td>\n",
       "    </tr>\n",
       "    <tr>\n",
       "      <th>2</th>\n",
       "      <td>2.820</td>\n",
       "      <td>4</td>\n",
       "      <td>0</td>\n",
       "    </tr>\n",
       "    <tr>\n",
       "      <th>3</th>\n",
       "      <td>2.826</td>\n",
       "      <td>6</td>\n",
       "      <td>0</td>\n",
       "    </tr>\n",
       "    <tr>\n",
       "      <th>4</th>\n",
       "      <td>2.820</td>\n",
       "      <td>8</td>\n",
       "      <td>0</td>\n",
       "    </tr>\n",
       "    <tr>\n",
       "      <th>...</th>\n",
       "      <td>...</td>\n",
       "      <td>...</td>\n",
       "      <td>...</td>\n",
       "    </tr>\n",
       "    <tr>\n",
       "      <th>692</th>\n",
       "      <td>0.045</td>\n",
       "      <td>1384</td>\n",
       "      <td>0</td>\n",
       "    </tr>\n",
       "    <tr>\n",
       "      <th>693</th>\n",
       "      <td>0.045</td>\n",
       "      <td>1386</td>\n",
       "      <td>0</td>\n",
       "    </tr>\n",
       "    <tr>\n",
       "      <th>694</th>\n",
       "      <td>0.045</td>\n",
       "      <td>1388</td>\n",
       "      <td>0</td>\n",
       "    </tr>\n",
       "    <tr>\n",
       "      <th>695</th>\n",
       "      <td>0.045</td>\n",
       "      <td>1390</td>\n",
       "      <td>0</td>\n",
       "    </tr>\n",
       "    <tr>\n",
       "      <th>696</th>\n",
       "      <td>0.046</td>\n",
       "      <td>1392</td>\n",
       "      <td>0</td>\n",
       "    </tr>\n",
       "  </tbody>\n",
       "</table>\n",
       "<p>697 rows × 3 columns</p>\n",
       "</div>"
      ],
      "text/plain": [
       "     current  delta  status\n",
       "0      2.822      0       0\n",
       "1      2.830      2       0\n",
       "2      2.820      4       0\n",
       "3      2.826      6       0\n",
       "4      2.820      8       0\n",
       "..       ...    ...     ...\n",
       "692    0.045   1384       0\n",
       "693    0.045   1386       0\n",
       "694    0.045   1388       0\n",
       "695    0.045   1390       0\n",
       "696    0.046   1392       0\n",
       "\n",
       "[697 rows x 3 columns]"
      ]
     },
     "execution_count": 44,
     "metadata": {},
     "output_type": "execute_result"
    }
   ],
   "source": [
    "test[['current','delta','status']]"
   ]
  },
  {
   "cell_type": "code",
   "execution_count": 49,
   "metadata": {},
   "outputs": [],
   "source": [
    "test[['current','delta','status']].to_csv('C:\\\\Users\\\\janik\\\\Wolke\\\\OneDrive\\\\Documents\\\\Projekte\\\\waschmaschine\\\\training\\\\test.csv', sep= ';', decimal= '.', index=False)"
   ]
  },
  {
   "cell_type": "code",
   "execution_count": 51,
   "metadata": {},
   "outputs": [
    {
     "ename": "KeyError",
     "evalue": "\"['delta'] not in index\"",
     "output_type": "error",
     "traceback": [
      "\u001b[1;31m---------------------------------------------------------------------------\u001b[0m",
      "\u001b[1;31mKeyError\u001b[0m                                  Traceback (most recent call last)",
      "\u001b[1;32m~\\AppData\\Local\\Temp/ipykernel_2892/362046943.py\u001b[0m in \u001b[0;36m<module>\u001b[1;34m\u001b[0m\n\u001b[1;32m----> 1\u001b[1;33m \u001b[0mdata\u001b[0m\u001b[1;33m[\u001b[0m\u001b[0mdata\u001b[0m\u001b[1;33m[\u001b[0m\u001b[1;34m'day'\u001b[0m\u001b[1;33m]\u001b[0m \u001b[1;33m==\u001b[0m \u001b[1;34m'26062021'\u001b[0m\u001b[1;33m]\u001b[0m\u001b[1;33m[\u001b[0m\u001b[1;33m[\u001b[0m\u001b[1;34m'current'\u001b[0m\u001b[1;33m,\u001b[0m\u001b[1;34m'delta'\u001b[0m\u001b[1;33m,\u001b[0m\u001b[1;34m'status'\u001b[0m\u001b[1;33m]\u001b[0m\u001b[1;33m]\u001b[0m\u001b[1;33m\u001b[0m\u001b[1;33m\u001b[0m\u001b[0m\n\u001b[0m",
      "\u001b[1;32m~\\AppData\\Local\\Programs\\Python\\Python310\\lib\\site-packages\\pandas\\core\\frame.py\u001b[0m in \u001b[0;36m__getitem__\u001b[1;34m(self, key)\u001b[0m\n\u001b[0;32m   3462\u001b[0m             \u001b[1;32mif\u001b[0m \u001b[0mis_iterator\u001b[0m\u001b[1;33m(\u001b[0m\u001b[0mkey\u001b[0m\u001b[1;33m)\u001b[0m\u001b[1;33m:\u001b[0m\u001b[1;33m\u001b[0m\u001b[1;33m\u001b[0m\u001b[0m\n\u001b[0;32m   3463\u001b[0m                 \u001b[0mkey\u001b[0m \u001b[1;33m=\u001b[0m \u001b[0mlist\u001b[0m\u001b[1;33m(\u001b[0m\u001b[0mkey\u001b[0m\u001b[1;33m)\u001b[0m\u001b[1;33m\u001b[0m\u001b[1;33m\u001b[0m\u001b[0m\n\u001b[1;32m-> 3464\u001b[1;33m             \u001b[0mindexer\u001b[0m \u001b[1;33m=\u001b[0m \u001b[0mself\u001b[0m\u001b[1;33m.\u001b[0m\u001b[0mloc\u001b[0m\u001b[1;33m.\u001b[0m\u001b[0m_get_listlike_indexer\u001b[0m\u001b[1;33m(\u001b[0m\u001b[0mkey\u001b[0m\u001b[1;33m,\u001b[0m \u001b[0maxis\u001b[0m\u001b[1;33m=\u001b[0m\u001b[1;36m1\u001b[0m\u001b[1;33m)\u001b[0m\u001b[1;33m[\u001b[0m\u001b[1;36m1\u001b[0m\u001b[1;33m]\u001b[0m\u001b[1;33m\u001b[0m\u001b[1;33m\u001b[0m\u001b[0m\n\u001b[0m\u001b[0;32m   3465\u001b[0m \u001b[1;33m\u001b[0m\u001b[0m\n\u001b[0;32m   3466\u001b[0m         \u001b[1;31m# take() does not accept boolean indexers\u001b[0m\u001b[1;33m\u001b[0m\u001b[1;33m\u001b[0m\u001b[0m\n",
      "\u001b[1;32m~\\AppData\\Local\\Programs\\Python\\Python310\\lib\\site-packages\\pandas\\core\\indexing.py\u001b[0m in \u001b[0;36m_get_listlike_indexer\u001b[1;34m(self, key, axis)\u001b[0m\n\u001b[0;32m   1312\u001b[0m             \u001b[0mkeyarr\u001b[0m\u001b[1;33m,\u001b[0m \u001b[0mindexer\u001b[0m\u001b[1;33m,\u001b[0m \u001b[0mnew_indexer\u001b[0m \u001b[1;33m=\u001b[0m \u001b[0max\u001b[0m\u001b[1;33m.\u001b[0m\u001b[0m_reindex_non_unique\u001b[0m\u001b[1;33m(\u001b[0m\u001b[0mkeyarr\u001b[0m\u001b[1;33m)\u001b[0m\u001b[1;33m\u001b[0m\u001b[1;33m\u001b[0m\u001b[0m\n\u001b[0;32m   1313\u001b[0m \u001b[1;33m\u001b[0m\u001b[0m\n\u001b[1;32m-> 1314\u001b[1;33m         \u001b[0mself\u001b[0m\u001b[1;33m.\u001b[0m\u001b[0m_validate_read_indexer\u001b[0m\u001b[1;33m(\u001b[0m\u001b[0mkeyarr\u001b[0m\u001b[1;33m,\u001b[0m \u001b[0mindexer\u001b[0m\u001b[1;33m,\u001b[0m \u001b[0maxis\u001b[0m\u001b[1;33m)\u001b[0m\u001b[1;33m\u001b[0m\u001b[1;33m\u001b[0m\u001b[0m\n\u001b[0m\u001b[0;32m   1315\u001b[0m \u001b[1;33m\u001b[0m\u001b[0m\n\u001b[0;32m   1316\u001b[0m         if needs_i8_conversion(ax.dtype) or isinstance(\n",
      "\u001b[1;32m~\\AppData\\Local\\Programs\\Python\\Python310\\lib\\site-packages\\pandas\\core\\indexing.py\u001b[0m in \u001b[0;36m_validate_read_indexer\u001b[1;34m(self, key, indexer, axis)\u001b[0m\n\u001b[0;32m   1375\u001b[0m \u001b[1;33m\u001b[0m\u001b[0m\n\u001b[0;32m   1376\u001b[0m             \u001b[0mnot_found\u001b[0m \u001b[1;33m=\u001b[0m \u001b[0mlist\u001b[0m\u001b[1;33m(\u001b[0m\u001b[0mensure_index\u001b[0m\u001b[1;33m(\u001b[0m\u001b[0mkey\u001b[0m\u001b[1;33m)\u001b[0m\u001b[1;33m[\u001b[0m\u001b[0mmissing_mask\u001b[0m\u001b[1;33m.\u001b[0m\u001b[0mnonzero\u001b[0m\u001b[1;33m(\u001b[0m\u001b[1;33m)\u001b[0m\u001b[1;33m[\u001b[0m\u001b[1;36m0\u001b[0m\u001b[1;33m]\u001b[0m\u001b[1;33m]\u001b[0m\u001b[1;33m.\u001b[0m\u001b[0munique\u001b[0m\u001b[1;33m(\u001b[0m\u001b[1;33m)\u001b[0m\u001b[1;33m)\u001b[0m\u001b[1;33m\u001b[0m\u001b[1;33m\u001b[0m\u001b[0m\n\u001b[1;32m-> 1377\u001b[1;33m             \u001b[1;32mraise\u001b[0m \u001b[0mKeyError\u001b[0m\u001b[1;33m(\u001b[0m\u001b[1;34mf\"{not_found} not in index\"\u001b[0m\u001b[1;33m)\u001b[0m\u001b[1;33m\u001b[0m\u001b[1;33m\u001b[0m\u001b[0m\n\u001b[0m\u001b[0;32m   1378\u001b[0m \u001b[1;33m\u001b[0m\u001b[0m\n\u001b[0;32m   1379\u001b[0m \u001b[1;33m\u001b[0m\u001b[0m\n",
      "\u001b[1;31mKeyError\u001b[0m: \"['delta'] not in index\""
     ]
    }
   ],
   "source": [
    "data[data['day'] == '26062021'][['current','delta','status']]"
   ]
  },
  {
   "cell_type": "code",
   "execution_count": 53,
   "metadata": {},
   "outputs": [
    {
     "name": "stderr",
     "output_type": "stream",
     "text": [
      "C:\\Users\\janik\\AppData\\Local\\Temp/ipykernel_2892/2416704292.py:3: SettingWithCopyWarning: \n",
      "A value is trying to be set on a copy of a slice from a DataFrame.\n",
      "Try using .loc[row_indexer,col_indexer] = value instead\n",
      "\n",
      "See the caveats in the documentation: https://pandas.pydata.org/pandas-docs/stable/user_guide/indexing.html#returning-a-view-versus-a-copy\n",
      "  final['delta'] = np.arange(0, 2*len(data[data['day'] == d]), 2)\n"
     ]
    },
    {
     "name": "stdout",
     "output_type": "stream",
     "text": [
      "Waesche_26062021\n",
      "Waesche_01072021\n",
      "Waesche_04072021\n",
      "Waesche_09072021\n",
      "Waesche_12072021\n",
      "Waesche_19072021\n",
      "Waesche_22072021\n",
      "Waesche_29072021\n",
      "Waesche_01082021\n",
      "Waesche_02082021\n",
      "Waesche_06082021\n",
      "Waesche_22082021\n",
      "Waesche_26082021\n",
      "Waesche_31082021\n",
      "Waesche_01092021\n",
      "Waesche_03092021\n",
      "Waesche_08092021\n",
      "Waesche_12092021\n",
      "Waesche_19092021\n",
      "Waesche_26092021\n",
      "Waesche_02102021\n",
      "Waesche_07102021\n",
      "Waesche_10102021\n",
      "Waesche_16102021\n",
      "Waesche_17102021\n",
      "Waesche_24102021\n",
      "Waesche_31102021\n"
     ]
    }
   ],
   "source": [
    "for d in pd.unique(data['day']):\n",
    "    final = data[data['day'] == d]\n",
    "    final['delta'] = np.arange(0, 2*len(data[data['day'] == d]), 2)\n",
    "    final[['current','delta','status']].to_csv(f'C:\\\\Users\\\\janik\\\\Wolke\\\\OneDrive\\\\Documents\\\\Projekte\\\\waschmaschine\\\\training\\\\Waesche_{d}.csv', sep= ';', decimal= '.', index=False)\n",
    "    del final\n",
    "    print(f'Waesche_{d}')"
   ]
  },
  {
   "cell_type": "code",
   "execution_count": 69,
   "metadata": {},
   "outputs": [],
   "source": [
    "energy_per_day = data.groupby(data['day'])['energy'].sum().reset_index()"
   ]
  },
  {
   "cell_type": "code",
   "execution_count": 72,
   "metadata": {},
   "outputs": [],
   "source": [
    "energy_per_day['day'] = pd.to_datetime(energy_per_day['day'], format='%d%m%Y')\n",
    "energy_per_day = energy_per_day.sort_values(by=['day'], ascending=True)"
   ]
  },
  {
   "cell_type": "code",
   "execution_count": 54,
   "metadata": {},
   "outputs": [
    {
     "data": {
      "text/plain": [
       "7.8"
      ]
     },
     "execution_count": 54,
     "metadata": {},
     "output_type": "execute_result"
    }
   ],
   "source": [
    "0.3*26"
   ]
  },
  {
   "cell_type": "code",
   "execution_count": 79,
   "metadata": {},
   "outputs": [
    {
     "data": {
      "text/plain": [
       "[Text(0, 0, '26.06'),\n",
       " Text(1, 0, '01.07'),\n",
       " Text(2, 0, '04.07'),\n",
       " Text(3, 0, '09.07'),\n",
       " Text(4, 0, '12.07'),\n",
       " Text(5, 0, '19.07'),\n",
       " Text(6, 0, '22.07'),\n",
       " Text(7, 0, '29.07'),\n",
       " Text(8, 0, '01.08'),\n",
       " Text(9, 0, '02.08'),\n",
       " Text(10, 0, '06.08'),\n",
       " Text(11, 0, '22.08'),\n",
       " Text(12, 0, '26.08'),\n",
       " Text(13, 0, '31.08'),\n",
       " Text(14, 0, '01.09'),\n",
       " Text(15, 0, '03.09'),\n",
       " Text(16, 0, '08.09'),\n",
       " Text(17, 0, '12.09'),\n",
       " Text(18, 0, '19.09'),\n",
       " Text(19, 0, '26.09'),\n",
       " Text(20, 0, '02.10'),\n",
       " Text(21, 0, '07.10'),\n",
       " Text(22, 0, '10.10'),\n",
       " Text(23, 0, '16.10'),\n",
       " Text(24, 0, '17.10'),\n",
       " Text(25, 0, '24.10'),\n",
       " Text(26, 0, '31.10')]"
      ]
     },
     "execution_count": 79,
     "metadata": {},
     "output_type": "execute_result"
    },
    {
     "data": {
      "image/png": "[encoded data removed]",
      "text/plain": [
       "<Figure size 432x288 with 1 Axes>"
      ]
     },
     "metadata": {
      "needs_background": "light"
     },
     "output_type": "display_data"
    }
   ],
   "source": [
    "ax = energy_per_day.plot.bar(x='day', y='energy')\n",
    "ax.set_ylabel(\"enrgy [kWh]\")\n",
    "# format xtick-labels with list comprehension\n",
    "ax.set_xticklabels([x.strftime(\"%d.%m\") for x in energy_per_day.day], rotation=90)"
   ]
  },
  {
   "cell_type": "code",
   "execution_count": 7,
   "metadata": {},
   "outputs": [
    {
     "name": "stdout",
     "output_type": "stream",
     "text": [
      "27\n"
     ]
    }
   ],
   "source": [
    "path = r'C:\\\\Users\\\\janik\\\\Wolke\\\\OneDrive\\\\Documents\\\\Projekte\\\\waschmaschine\\\\training\\\\'\n",
    "all_files = glob.glob(path + \"\\\\*.csv\")\n",
    "\n",
    "li = []\n",
    "i = 0\n",
    "for filename in all_files:\n",
    "    i = i + 1\n",
    "    df = pd.read_csv(filename, index_col=None, header=0, delimiter= ';', decimal= '.')\n",
    "    li.append(df)\n",
    "\n",
    "print(i)\n",
    "data = pd.concat(li, axis=0, ignore_index=True)"
   ]
  },
  {
   "cell_type": "code",
   "execution_count": 76,
   "metadata": {},
   "outputs": [],
   "source": [
    "data = pd.read_csv('C:\\\\Users\\\\janik\\\\Wolke\\\\OneDrive\\\\Documents\\\\Projekte\\\\waschmaschine\\\\training\\\\Waesche_29072021.csv', index_col=None, header=0, delimiter= ';', decimal= '.')"
   ]
  },
  {
   "cell_type": "code",
   "execution_count": 8,
   "metadata": {},
   "outputs": [],
   "source": [
    "idle = data[(data['current'] < 0.05) & (data['status'] == 0)]\n",
    "x = idle[['current', 'delta']].to_numpy()"
   ]
  },
  {
   "cell_type": "code",
   "execution_count": 9,
   "metadata": {},
   "outputs": [
    {
     "data": {
      "text/html": [
       "<div>\n",
       "<style scoped>\n",
       "    .dataframe tbody tr th:only-of-type {\n",
       "        vertical-align: middle;\n",
       "    }\n",
       "\n",
       "    .dataframe tbody tr th {\n",
       "        vertical-align: top;\n",
       "    }\n",
       "\n",
       "    .dataframe thead th {\n",
       "        text-align: right;\n",
       "    }\n",
       "</style>\n",
       "<table border=\"1\" class=\"dataframe\">\n",
       "  <thead>\n",
       "    <tr style=\"text-align: right;\">\n",
       "      <th></th>\n",
       "      <th>current</th>\n",
       "      <th>delta</th>\n",
       "      <th>status</th>\n",
       "    </tr>\n",
       "  </thead>\n",
       "  <tbody>\n",
       "    <tr>\n",
       "      <th>941</th>\n",
       "      <td>0.049</td>\n",
       "      <td>1882</td>\n",
       "      <td>0</td>\n",
       "    </tr>\n",
       "    <tr>\n",
       "      <th>942</th>\n",
       "      <td>0.046</td>\n",
       "      <td>1884</td>\n",
       "      <td>0</td>\n",
       "    </tr>\n",
       "    <tr>\n",
       "      <th>953</th>\n",
       "      <td>0.046</td>\n",
       "      <td>1906</td>\n",
       "      <td>0</td>\n",
       "    </tr>\n",
       "    <tr>\n",
       "      <th>954</th>\n",
       "      <td>0.045</td>\n",
       "      <td>1908</td>\n",
       "      <td>0</td>\n",
       "    </tr>\n",
       "    <tr>\n",
       "      <th>955</th>\n",
       "      <td>0.046</td>\n",
       "      <td>1910</td>\n",
       "      <td>0</td>\n",
       "    </tr>\n",
       "    <tr>\n",
       "      <th>...</th>\n",
       "      <td>...</td>\n",
       "      <td>...</td>\n",
       "      <td>...</td>\n",
       "    </tr>\n",
       "    <tr>\n",
       "      <th>71185</th>\n",
       "      <td>0.046</td>\n",
       "      <td>5852</td>\n",
       "      <td>0</td>\n",
       "    </tr>\n",
       "    <tr>\n",
       "      <th>71186</th>\n",
       "      <td>0.046</td>\n",
       "      <td>5854</td>\n",
       "      <td>0</td>\n",
       "    </tr>\n",
       "    <tr>\n",
       "      <th>71187</th>\n",
       "      <td>0.046</td>\n",
       "      <td>5856</td>\n",
       "      <td>0</td>\n",
       "    </tr>\n",
       "    <tr>\n",
       "      <th>71188</th>\n",
       "      <td>0.046</td>\n",
       "      <td>5858</td>\n",
       "      <td>0</td>\n",
       "    </tr>\n",
       "    <tr>\n",
       "      <th>71194</th>\n",
       "      <td>0.046</td>\n",
       "      <td>5870</td>\n",
       "      <td>0</td>\n",
       "    </tr>\n",
       "  </tbody>\n",
       "</table>\n",
       "<p>5840 rows × 3 columns</p>\n",
       "</div>"
      ],
      "text/plain": [
       "       current  delta  status\n",
       "941      0.049   1882       0\n",
       "942      0.046   1884       0\n",
       "953      0.046   1906       0\n",
       "954      0.045   1908       0\n",
       "955      0.046   1910       0\n",
       "...        ...    ...     ...\n",
       "71185    0.046   5852       0\n",
       "71186    0.046   5854       0\n",
       "71187    0.046   5856       0\n",
       "71188    0.046   5858       0\n",
       "71194    0.046   5870       0\n",
       "\n",
       "[5840 rows x 3 columns]"
      ]
     },
     "execution_count": 9,
     "metadata": {},
     "output_type": "execute_result"
    }
   ],
   "source": [
    "idle[['current', 'delta', 'status']]"
   ]
  },
  {
   "cell_type": "code",
   "execution_count": 22,
   "metadata": {},
   "outputs": [
    {
     "name": "stdout",
     "output_type": "stream",
     "text": [
      "30\n"
     ]
    }
   ],
   "source": [
    "counter = 0\n",
    "max = 0\n",
    "for i in range(1,len(x)):\n",
    "    if (x[i,1] - x[i-1,1] == 2) & (x[i,1] > 18*60):\n",
    "        counter = counter + 1\n",
    "        if counter > max:\n",
    "            max = counter\n",
    "    else:\n",
    "        counter = 0\n",
    "\n",
    "print(max)"
   ]
  }
 ],
 "metadata": {
  "interpreter": {
   "hash": "d8bcea07a743dd2795e86070f4b70353b5d994ded4f3aacc0b981eff7a0b707a"
  },
  "kernelspec": {
   "display_name": "Python 3.10.0 64-bit",
   "name": "python3"
  },
  "language_info": {
   "codemirror_mode": {
    "name": "ipython",
    "version": 3
   },
   "file_extension": ".py",
   "mimetype": "text/x-python",
   "name": "python",
   "nbconvert_exporter": "python",
   "pygments_lexer": "ipython3",
   "version": "3.9.9"
  },
  "orig_nbformat": 4
 },
 "nbformat": 4,
 "nbformat_minor": 2
}
