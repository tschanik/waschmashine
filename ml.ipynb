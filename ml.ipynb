{
 "cells": [
  {
   "cell_type": "code",
   "execution_count": 206,
   "metadata": {},
   "outputs": [],
   "source": [
    "from sklearn.linear_model import LogisticRegression\n",
    "from sklearn.metrics import classification_report, confusion_matrix\n",
    "from imblearn.over_sampling import SMOTE"
   ]
  },
  {
   "cell_type": "code",
   "execution_count": 467,
   "metadata": {},
   "outputs": [],
   "source": [
    "import pandas as pd\n",
    "import matplotlib.pyplot as plot\n",
    "import numpy as np\n",
    "import glob\n",
    "import os"
   ]
  },
  {
   "cell_type": "code",
   "execution_count": 290,
   "metadata": {},
   "outputs": [
    {
     "name": "stdout",
     "output_type": "stream",
     "text": [
      "26\n"
     ]
    }
   ],
   "source": [
    "path = r'C:\\\\Users\\\\janik\\\\Wolke\\\\OneDrive\\\\Documents\\\\Projekte\\\\waschmaschine\\\\training'\n",
    "all_files = glob.glob(path + \"\\\\*.csv\")\n",
    "\n",
    "li = []\n",
    "i = 0\n",
    "for filename in all_files:\n",
    "    i = i + 1\n",
    "    df = pd.read_csv(filename, index_col=None, header=0, delimiter= ';', decimal= '.')\n",
    "    li.append(df)\n",
    "\n",
    "print(i)\n",
    "data = pd.concat(li, axis=0, ignore_index=True)"
   ]
  },
  {
   "cell_type": "code",
   "execution_count": 291,
   "metadata": {},
   "outputs": [
    {
     "data": {
      "text/html": [
       "<div>\n",
       "<style scoped>\n",
       "    .dataframe tbody tr th:only-of-type {\n",
       "        vertical-align: middle;\n",
       "    }\n",
       "\n",
       "    .dataframe tbody tr th {\n",
       "        vertical-align: top;\n",
       "    }\n",
       "\n",
       "    .dataframe thead th {\n",
       "        text-align: right;\n",
       "    }\n",
       "</style>\n",
       "<table border=\"1\" class=\"dataframe\">\n",
       "  <thead>\n",
       "    <tr style=\"text-align: right;\">\n",
       "      <th></th>\n",
       "      <th>current</th>\n",
       "      <th>delta</th>\n",
       "      <th>status</th>\n",
       "    </tr>\n",
       "  </thead>\n",
       "  <tbody>\n",
       "    <tr>\n",
       "      <th>0</th>\n",
       "      <td>10.391</td>\n",
       "      <td>0</td>\n",
       "      <td>0</td>\n",
       "    </tr>\n",
       "    <tr>\n",
       "      <th>1</th>\n",
       "      <td>9.827</td>\n",
       "      <td>2</td>\n",
       "      <td>0</td>\n",
       "    </tr>\n",
       "    <tr>\n",
       "      <th>2</th>\n",
       "      <td>8.800</td>\n",
       "      <td>4</td>\n",
       "      <td>0</td>\n",
       "    </tr>\n",
       "    <tr>\n",
       "      <th>3</th>\n",
       "      <td>8.815</td>\n",
       "      <td>6</td>\n",
       "      <td>0</td>\n",
       "    </tr>\n",
       "    <tr>\n",
       "      <th>4</th>\n",
       "      <td>8.787</td>\n",
       "      <td>8</td>\n",
       "      <td>0</td>\n",
       "    </tr>\n",
       "    <tr>\n",
       "      <th>...</th>\n",
       "      <td>...</td>\n",
       "      <td>...</td>\n",
       "      <td>...</td>\n",
       "    </tr>\n",
       "    <tr>\n",
       "      <th>70323</th>\n",
       "      <td>0.045</td>\n",
       "      <td>7306</td>\n",
       "      <td>1</td>\n",
       "    </tr>\n",
       "    <tr>\n",
       "      <th>70324</th>\n",
       "      <td>0.045</td>\n",
       "      <td>7308</td>\n",
       "      <td>1</td>\n",
       "    </tr>\n",
       "    <tr>\n",
       "      <th>70325</th>\n",
       "      <td>0.045</td>\n",
       "      <td>7310</td>\n",
       "      <td>1</td>\n",
       "    </tr>\n",
       "    <tr>\n",
       "      <th>70326</th>\n",
       "      <td>0.045</td>\n",
       "      <td>7312</td>\n",
       "      <td>1</td>\n",
       "    </tr>\n",
       "    <tr>\n",
       "      <th>70327</th>\n",
       "      <td>0.045</td>\n",
       "      <td>7314</td>\n",
       "      <td>1</td>\n",
       "    </tr>\n",
       "  </tbody>\n",
       "</table>\n",
       "<p>70328 rows × 3 columns</p>\n",
       "</div>"
      ],
      "text/plain": [
       "       current  delta  status\n",
       "0       10.391      0       0\n",
       "1        9.827      2       0\n",
       "2        8.800      4       0\n",
       "3        8.815      6       0\n",
       "4        8.787      8       0\n",
       "...        ...    ...     ...\n",
       "70323    0.045   7306       1\n",
       "70324    0.045   7308       1\n",
       "70325    0.045   7310       1\n",
       "70326    0.045   7312       1\n",
       "70327    0.045   7314       1\n",
       "\n",
       "[70328 rows x 3 columns]"
      ]
     },
     "execution_count": 291,
     "metadata": {},
     "output_type": "execute_result"
    }
   ],
   "source": [
    "data"
   ]
  },
  {
   "cell_type": "code",
   "execution_count": 292,
   "metadata": {},
   "outputs": [],
   "source": [
    "data['current_normalized'] = data['current']/12\n",
    "data['delta_normalized'] = data['delta']/(120*60)"
   ]
  },
  {
   "cell_type": "code",
   "execution_count": 293,
   "metadata": {},
   "outputs": [],
   "source": [
    "y = data['status'].to_numpy()"
   ]
  },
  {
   "cell_type": "code",
   "execution_count": 489,
   "metadata": {},
   "outputs": [
    {
     "data": {
      "text/plain": [
       "70328"
      ]
     },
     "execution_count": 489,
     "metadata": {},
     "output_type": "execute_result"
    }
   ],
   "source": [
    "len(y)"
   ]
  },
  {
   "cell_type": "code",
   "execution_count": 294,
   "metadata": {},
   "outputs": [],
   "source": [
    "x = data[['current_normalized', 'delta_normalized']].to_numpy()"
   ]
  },
  {
   "cell_type": "code",
   "execution_count": 233,
   "metadata": {},
   "outputs": [],
   "source": [
    "from sklearn.preprocessing import MinMaxScaler"
   ]
  },
  {
   "cell_type": "code",
   "execution_count": 476,
   "metadata": {},
   "outputs": [],
   "source": [
    "model = LogisticRegression(C=0.1)"
   ]
  },
  {
   "cell_type": "code",
   "execution_count": 477,
   "metadata": {},
   "outputs": [
    {
     "data": {
      "text/plain": [
       "LogisticRegression(C=0.1)"
      ]
     },
     "execution_count": 477,
     "metadata": {},
     "output_type": "execute_result"
    }
   ],
   "source": [
    "model.fit(x, y)"
   ]
  },
  {
   "cell_type": "code",
   "execution_count": 393,
   "metadata": {},
   "outputs": [
    {
     "data": {
      "text/plain": [
       "array([0, 1], dtype=int64)"
      ]
     },
     "execution_count": 393,
     "metadata": {},
     "output_type": "execute_result"
    }
   ],
   "source": [
    "model.classes_"
   ]
  },
  {
   "cell_type": "code",
   "execution_count": 488,
   "metadata": {},
   "outputs": [
    {
     "data": {
      "text/plain": [
       "-5.981861989378207"
      ]
     },
     "execution_count": 488,
     "metadata": {},
     "output_type": "execute_result"
    }
   ],
   "source": [
    "model.intercept_[0]"
   ]
  },
  {
   "cell_type": "code",
   "execution_count": 487,
   "metadata": {},
   "outputs": [
    {
     "data": {
      "text/plain": [
       "-14.858981685527775"
      ]
     },
     "execution_count": 487,
     "metadata": {},
     "output_type": "execute_result"
    }
   ],
   "source": [
    "model.coef_[0][0]"
   ]
  },
  {
   "cell_type": "code",
   "execution_count": 486,
   "metadata": {},
   "outputs": [
    {
     "data": {
      "text/plain": [
       "9.291278202911599"
      ]
     },
     "execution_count": 486,
     "metadata": {},
     "output_type": "execute_result"
    }
   ],
   "source": [
    "model.coef_[0][1]"
   ]
  },
  {
   "cell_type": "code",
   "execution_count": 481,
   "metadata": {},
   "outputs": [],
   "source": [
    "p_pred = model.predict_proba(x)\n",
    "y_pred = model.predict(x)\n",
    "score_ = model.score(x, y)\n",
    "conf_m = confusion_matrix(y, y_pred)\n",
    "report = classification_report(y, y_pred)"
   ]
  },
  {
   "cell_type": "code",
   "execution_count": 483,
   "metadata": {},
   "outputs": [
    {
     "name": "stdout",
     "output_type": "stream",
     "text": [
      "score_: 0.9407206233648049\n",
      "\n"
     ]
    }
   ],
   "source": [
    "print('score_:', score_, end='\\n\\n')"
   ]
  },
  {
   "cell_type": "code",
   "execution_count": 482,
   "metadata": {},
   "outputs": [
    {
     "name": "stdout",
     "output_type": "stream",
     "text": [
      "report:\n",
      "              precision    recall  f1-score   support\n",
      "\n",
      "           0       0.95      0.98      0.97     62308\n",
      "           1       0.80      0.64      0.71      8020\n",
      "\n",
      "    accuracy                           0.94     70328\n",
      "   macro avg       0.88      0.81      0.84     70328\n",
      "weighted avg       0.94      0.94      0.94     70328\n",
      "\n"
     ]
    }
   ],
   "source": [
    "print('report:', report, sep='\\n')"
   ]
  },
  {
   "cell_type": "code",
   "execution_count": 69,
   "metadata": {},
   "outputs": [
    {
     "data": {
      "text/plain": [
       "0.8106525830400004"
      ]
     },
     "execution_count": 69,
     "metadata": {},
     "output_type": "execute_result"
    }
   ],
   "source": [
    "-5.84409858 - 2.59735626e+01 * 0.045 + 1.72249262e-03 * 4542"
   ]
  },
  {
   "cell_type": "code",
   "execution_count": 70,
   "metadata": {},
   "outputs": [
    {
     "data": {
      "text/plain": [
       "0.6922485483553602"
      ]
     },
     "execution_count": 70,
     "metadata": {},
     "output_type": "execute_result"
    }
   ],
   "source": [
    "1/(1+np.exp(-0.8106525830400004))"
   ]
  },
  {
   "cell_type": "code",
   "execution_count": 484,
   "metadata": {},
   "outputs": [],
   "source": [
    "def status(current, delta):\n",
    "    y = model.intercept_[0] + model.coef_[0][0] * (current/12) + model.coef_[0][1] * (delta/7200)\n",
    "    p = 1/(1+np.exp(-y))\n",
    "        \n",
    "    return p"
   ]
  },
  {
   "cell_type": "code",
   "execution_count": 485,
   "metadata": {},
   "outputs": [],
   "source": [
    "path = r'C:\\\\Users\\\\janik\\\\Wolke\\\\OneDrive\\\\Documents\\\\Projekte\\\\waschmaschine\\\\test'\n",
    "all_files = glob.glob(path + \"\\\\*.csv\")\n",
    "\n",
    "li = []\n",
    "i = 0\n",
    "for filename in all_files:\n",
    "    i = os.path.basename(filename)\n",
    "    test = pd.read_csv(filename, index_col=None, header=0, delimiter= ';', decimal= '.')\n",
    "    test['p'] = status(test['current'], test['delta'])\n",
    "    test.loc[(test['p'] >= 0.5) & (test['current'] < 0.05), 'status_2'] = 1\n",
    "    test.loc[test['p'] < 0.5, 'status_2'] = 0\n",
    "    test[(test['status'] == 1) | (test['status_2'] == 1)].to_csv(f'C:\\\\Users\\\\janik\\\\Wolke\\\\OneDrive\\\\Documents\\\\Projekte\\\\waschmaschine\\\\validation\\\\{i}', sep= ';', decimal= '.', index=False)"
   ]
  },
  {
   "cell_type": "code",
   "execution_count": 313,
   "metadata": {},
   "outputs": [],
   "source": [
    "test = pd.read_csv('C:\\\\Users\\\\janik\\\\Wolke\\\\OneDrive\\\\Documents\\\\Projekte\\\\waschmaschine\\\\test\\\\Waesche_01092021.csv', index_col=None, header=0, delimiter= ';', decimal= '.')"
   ]
  },
  {
   "cell_type": "code",
   "execution_count": 338,
   "metadata": {},
   "outputs": [
    {
     "data": {
      "text/plain": [
       "0.0011147923931813179"
      ]
     },
     "execution_count": 338,
     "metadata": {},
     "output_type": "execute_result"
    }
   ],
   "source": [
    "status(0.045/12, 4542/7200)"
   ]
  },
  {
   "cell_type": "code",
   "execution_count": 314,
   "metadata": {},
   "outputs": [],
   "source": [
    "test['p'] = status(test['current'], test['delta'])"
   ]
  },
  {
   "cell_type": "code",
   "execution_count": 376,
   "metadata": {},
   "outputs": [
    {
     "data": {
      "text/html": [
       "<div>\n",
       "<style scoped>\n",
       "    .dataframe tbody tr th:only-of-type {\n",
       "        vertical-align: middle;\n",
       "    }\n",
       "\n",
       "    .dataframe tbody tr th {\n",
       "        vertical-align: top;\n",
       "    }\n",
       "\n",
       "    .dataframe thead th {\n",
       "        text-align: right;\n",
       "    }\n",
       "</style>\n",
       "<table border=\"1\" class=\"dataframe\">\n",
       "  <thead>\n",
       "    <tr style=\"text-align: right;\">\n",
       "      <th></th>\n",
       "      <th>current</th>\n",
       "      <th>delta</th>\n",
       "      <th>status</th>\n",
       "      <th>p</th>\n",
       "      <th>status_2</th>\n",
       "    </tr>\n",
       "  </thead>\n",
       "  <tbody>\n",
       "    <tr>\n",
       "      <th>2162</th>\n",
       "      <td>0.045</td>\n",
       "      <td>4324</td>\n",
       "      <td>1</td>\n",
       "      <td>0.800258</td>\n",
       "      <td>1.0</td>\n",
       "    </tr>\n",
       "    <tr>\n",
       "      <th>2163</th>\n",
       "      <td>0.045</td>\n",
       "      <td>4326</td>\n",
       "      <td>1</td>\n",
       "      <td>0.800735</td>\n",
       "      <td>1.0</td>\n",
       "    </tr>\n",
       "    <tr>\n",
       "      <th>2164</th>\n",
       "      <td>0.046</td>\n",
       "      <td>4328</td>\n",
       "      <td>1</td>\n",
       "      <td>0.800949</td>\n",
       "      <td>1.0</td>\n",
       "    </tr>\n",
       "    <tr>\n",
       "      <th>2165</th>\n",
       "      <td>0.046</td>\n",
       "      <td>4330</td>\n",
       "      <td>1</td>\n",
       "      <td>0.801424</td>\n",
       "      <td>1.0</td>\n",
       "    </tr>\n",
       "    <tr>\n",
       "      <th>2166</th>\n",
       "      <td>0.046</td>\n",
       "      <td>4332</td>\n",
       "      <td>1</td>\n",
       "      <td>0.801898</td>\n",
       "      <td>1.0</td>\n",
       "    </tr>\n",
       "    <tr>\n",
       "      <th>...</th>\n",
       "      <td>...</td>\n",
       "      <td>...</td>\n",
       "      <td>...</td>\n",
       "      <td>...</td>\n",
       "      <td>...</td>\n",
       "    </tr>\n",
       "    <tr>\n",
       "      <th>2511</th>\n",
       "      <td>0.035</td>\n",
       "      <td>5022</td>\n",
       "      <td>1</td>\n",
       "      <td>0.920185</td>\n",
       "      <td>1.0</td>\n",
       "    </tr>\n",
       "    <tr>\n",
       "      <th>2512</th>\n",
       "      <td>0.035</td>\n",
       "      <td>5024</td>\n",
       "      <td>1</td>\n",
       "      <td>0.920404</td>\n",
       "      <td>1.0</td>\n",
       "    </tr>\n",
       "    <tr>\n",
       "      <th>2513</th>\n",
       "      <td>0.035</td>\n",
       "      <td>5026</td>\n",
       "      <td>1</td>\n",
       "      <td>0.920622</td>\n",
       "      <td>1.0</td>\n",
       "    </tr>\n",
       "    <tr>\n",
       "      <th>2514</th>\n",
       "      <td>0.035</td>\n",
       "      <td>5028</td>\n",
       "      <td>1</td>\n",
       "      <td>0.920840</td>\n",
       "      <td>1.0</td>\n",
       "    </tr>\n",
       "    <tr>\n",
       "      <th>2515</th>\n",
       "      <td>0.035</td>\n",
       "      <td>5030</td>\n",
       "      <td>1</td>\n",
       "      <td>0.921057</td>\n",
       "      <td>1.0</td>\n",
       "    </tr>\n",
       "  </tbody>\n",
       "</table>\n",
       "<p>354 rows × 5 columns</p>\n",
       "</div>"
      ],
      "text/plain": [
       "      current  delta  status         p  status_2\n",
       "2162    0.045   4324       1  0.800258       1.0\n",
       "2163    0.045   4326       1  0.800735       1.0\n",
       "2164    0.046   4328       1  0.800949       1.0\n",
       "2165    0.046   4330       1  0.801424       1.0\n",
       "2166    0.046   4332       1  0.801898       1.0\n",
       "...       ...    ...     ...       ...       ...\n",
       "2511    0.035   5022       1  0.920185       1.0\n",
       "2512    0.035   5024       1  0.920404       1.0\n",
       "2513    0.035   5026       1  0.920622       1.0\n",
       "2514    0.035   5028       1  0.920840       1.0\n",
       "2515    0.035   5030       1  0.921057       1.0\n",
       "\n",
       "[354 rows x 5 columns]"
      ]
     },
     "execution_count": 376,
     "metadata": {},
     "output_type": "execute_result"
    }
   ],
   "source": [
    "test[test['p'] >= 0.8] "
   ]
  },
  {
   "cell_type": "code",
   "execution_count": 317,
   "metadata": {},
   "outputs": [
    {
     "data": {
      "text/html": [
       "<div>\n",
       "<style scoped>\n",
       "    .dataframe tbody tr th:only-of-type {\n",
       "        vertical-align: middle;\n",
       "    }\n",
       "\n",
       "    .dataframe tbody tr th {\n",
       "        vertical-align: top;\n",
       "    }\n",
       "\n",
       "    .dataframe thead th {\n",
       "        text-align: right;\n",
       "    }\n",
       "</style>\n",
       "<table border=\"1\" class=\"dataframe\">\n",
       "  <thead>\n",
       "    <tr style=\"text-align: right;\">\n",
       "      <th></th>\n",
       "      <th>current</th>\n",
       "      <th>delta</th>\n",
       "      <th>status</th>\n",
       "      <th>p</th>\n",
       "    </tr>\n",
       "  </thead>\n",
       "  <tbody>\n",
       "    <tr>\n",
       "      <th>0</th>\n",
       "      <td>0.035</td>\n",
       "      <td>0</td>\n",
       "      <td>0</td>\n",
       "      <td>0.014559</td>\n",
       "    </tr>\n",
       "    <tr>\n",
       "      <th>1</th>\n",
       "      <td>0.035</td>\n",
       "      <td>2</td>\n",
       "      <td>0</td>\n",
       "      <td>0.014581</td>\n",
       "    </tr>\n",
       "    <tr>\n",
       "      <th>2</th>\n",
       "      <td>0.035</td>\n",
       "      <td>4</td>\n",
       "      <td>0</td>\n",
       "      <td>0.014603</td>\n",
       "    </tr>\n",
       "    <tr>\n",
       "      <th>3</th>\n",
       "      <td>0.035</td>\n",
       "      <td>6</td>\n",
       "      <td>0</td>\n",
       "      <td>0.014625</td>\n",
       "    </tr>\n",
       "    <tr>\n",
       "      <th>4</th>\n",
       "      <td>0.067</td>\n",
       "      <td>8</td>\n",
       "      <td>0</td>\n",
       "      <td>0.014460</td>\n",
       "    </tr>\n",
       "    <tr>\n",
       "      <th>...</th>\n",
       "      <td>...</td>\n",
       "      <td>...</td>\n",
       "      <td>...</td>\n",
       "      <td>...</td>\n",
       "    </tr>\n",
       "    <tr>\n",
       "      <th>2625</th>\n",
       "      <td>0.045</td>\n",
       "      <td>5250</td>\n",
       "      <td>1</td>\n",
       "      <td>0.447755</td>\n",
       "    </tr>\n",
       "    <tr>\n",
       "      <th>2626</th>\n",
       "      <td>0.045</td>\n",
       "      <td>5252</td>\n",
       "      <td>1</td>\n",
       "      <td>0.448132</td>\n",
       "    </tr>\n",
       "    <tr>\n",
       "      <th>2627</th>\n",
       "      <td>0.045</td>\n",
       "      <td>5254</td>\n",
       "      <td>1</td>\n",
       "      <td>0.448510</td>\n",
       "    </tr>\n",
       "    <tr>\n",
       "      <th>2628</th>\n",
       "      <td>0.045</td>\n",
       "      <td>5256</td>\n",
       "      <td>1</td>\n",
       "      <td>0.448888</td>\n",
       "    </tr>\n",
       "    <tr>\n",
       "      <th>2629</th>\n",
       "      <td>0.045</td>\n",
       "      <td>5258</td>\n",
       "      <td>1</td>\n",
       "      <td>0.449266</td>\n",
       "    </tr>\n",
       "  </tbody>\n",
       "</table>\n",
       "<p>2630 rows × 4 columns</p>\n",
       "</div>"
      ],
      "text/plain": [
       "      current  delta  status         p\n",
       "0       0.035      0       0  0.014559\n",
       "1       0.035      2       0  0.014581\n",
       "2       0.035      4       0  0.014603\n",
       "3       0.035      6       0  0.014625\n",
       "4       0.067      8       0  0.014460\n",
       "...       ...    ...     ...       ...\n",
       "2625    0.045   5250       1  0.447755\n",
       "2626    0.045   5252       1  0.448132\n",
       "2627    0.045   5254       1  0.448510\n",
       "2628    0.045   5256       1  0.448888\n",
       "2629    0.045   5258       1  0.449266\n",
       "\n",
       "[2630 rows x 4 columns]"
      ]
     },
     "execution_count": 317,
     "metadata": {},
     "output_type": "execute_result"
    }
   ],
   "source": [
    "test"
   ]
  },
  {
   "cell_type": "code",
   "execution_count": 310,
   "metadata": {},
   "outputs": [],
   "source": [
    "test.loc[test['p'] >= 0.5, 'status_2'] = 1\n",
    "test.loc[test['p'] < 0.5, 'status_2'] = 0"
   ]
  },
  {
   "cell_type": "code",
   "execution_count": 311,
   "metadata": {},
   "outputs": [],
   "source": [
    "test.to_csv('C:\\\\Users\\\\janik\\\\Wolke\\\\OneDrive\\\\Documents\\\\Projekte\\\\waschmaschine\\\\validation\\\\test.csv', sep= ';', decimal= '.', index=False)"
   ]
  },
  {
   "cell_type": "code",
   "execution_count": 25,
   "metadata": {},
   "outputs": [
    {
     "data": {
      "text/plain": [
       "array([[9.99378183e-01, 6.21816661e-04],\n",
       "       [9.99995759e-01, 4.24058915e-06],\n",
       "       [9.99998786e-01, 1.21439796e-06],\n",
       "       ...,\n",
       "       [1.61322292e-01, 8.38677708e-01],\n",
       "       [1.60857503e-01, 8.39142497e-01],\n",
       "       [1.60393798e-01, 8.39606202e-01]])"
      ]
     },
     "execution_count": 25,
     "metadata": {},
     "output_type": "execute_result"
    }
   ],
   "source": [
    "model.predict_proba(x)"
   ]
  },
  {
   "cell_type": "code",
   "execution_count": 26,
   "metadata": {},
   "outputs": [
    {
     "data": {
      "text/plain": [
       "array([0, 0, 0, ..., 1, 1, 1], dtype=int64)"
      ]
     },
     "execution_count": 26,
     "metadata": {},
     "output_type": "execute_result"
    }
   ],
   "source": [
    "model.predict(x)"
   ]
  },
  {
   "cell_type": "code",
   "execution_count": 27,
   "metadata": {},
   "outputs": [
    {
     "data": {
      "text/plain": [
       "0.9796893667861409"
      ]
     },
     "execution_count": 27,
     "metadata": {},
     "output_type": "execute_result"
    }
   ],
   "source": [
    "model.score(x, y)"
   ]
  },
  {
   "cell_type": "code",
   "execution_count": 29,
   "metadata": {},
   "outputs": [
    {
     "ename": "AttributeError",
     "evalue": "'LogisticRegression' object has no attribute 'summary'",
     "output_type": "error",
     "traceback": [
      "\u001b[1;31m---------------------------------------------------------------------------\u001b[0m",
      "\u001b[1;31mAttributeError\u001b[0m                            Traceback (most recent call last)",
      "\u001b[1;32m~\\AppData\\Local\\Temp/ipykernel_3360/3235888500.py\u001b[0m in \u001b[0;36m<module>\u001b[1;34m\u001b[0m\n\u001b[1;32m----> 1\u001b[1;33m \u001b[0mresult\u001b[0m\u001b[1;33m.\u001b[0m\u001b[0msummary\u001b[0m\u001b[1;33m(\u001b[0m\u001b[1;33m)\u001b[0m\u001b[1;33m\u001b[0m\u001b[1;33m\u001b[0m\u001b[0m\n\u001b[0m",
      "\u001b[1;31mAttributeError\u001b[0m: 'LogisticRegression' object has no attribute 'summary'"
     ]
    }
   ],
   "source": [
    "result.summary()"
   ]
  }
 ],
 "metadata": {
  "interpreter": {
   "hash": "d8bcea07a743dd2795e86070f4b70353b5d994ded4f3aacc0b981eff7a0b707a"
  },
  "kernelspec": {
   "display_name": "Python 3.10.0 64-bit",
   "name": "python3"
  },
  "language_info": {
   "codemirror_mode": {
    "name": "ipython",
    "version": 3
   },
   "file_extension": ".py",
   "mimetype": "text/x-python",
   "name": "python",
   "nbconvert_exporter": "python",
   "pygments_lexer": "ipython3",
   "version": "3.9.9"
  },
  "orig_nbformat": 4
 },
 "nbformat": 4,
 "nbformat_minor": 2
}
